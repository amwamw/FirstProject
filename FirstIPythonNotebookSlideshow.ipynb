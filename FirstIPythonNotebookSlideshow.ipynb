{
 "cells": [
  {
   "cell_type": "markdown",
   "metadata": {},
   "source": [
    "# Slide Title One"
   ]
  },
  {
   "cell_type": "markdown",
   "metadata": {},
   "source": [
    "## Subtitle"
   ]
  },
  {
   "cell_type": "markdown",
   "metadata": {},
   "source": [
    "Heading\n",
    "====\n",
    "\n",
    "\n",
    "Here is some text with sum bullet points:\n",
    "* point 1\n",
    "* point 2\n",
    " * subpoint 2.1\n",
    " * subpoint 2.2\n",
    " \n",
    "> *quote this long sentence that hopefully will word wrap at some point to illustrate what I am trying to do with this line - hopefully this is now enough *\n",
    "\n",
    " Tables        | Are           | Cool  \n",
    " --- |:---:| ---:\n",
    " col 3 is      | right-aligned | 1600 \n",
    " col 2 is      | centered      |   12 \n",
    " zebra stripes | are neat      |    1 \n",
    "\n",
    "There must be at least 3 dashes separating each header cell.\n",
    "The outer pipes (|) are optional, and you don't need to make the \n",
    "raw Markdown line up prettily. You can also use inline Markdown.\n",
    "\n",
    "---\n",
    "Some horizontal lines\n",
    "\n",
    "---\n",
    "\n",
    "Here is some python code:\n",
    "\n",
    "```python\n",
    "def add1 (list):\n",
    "    return [x+1 for x in list]\n",
    "```"
   ]
  },
  {
   "cell_type": "markdown",
   "metadata": {},
   "source": [
    "\n",
    "\n"
   ]
  },
  {
   "cell_type": "markdown",
   "metadata": {
    "collapsed": true
   },
   "source": [
    "![some text](/Users/andrewwhiter/TestPhoto.bmp)\n"
   ]
  },
  {
   "cell_type": "code",
   "execution_count": null,
   "metadata": {
    "collapsed": true
   },
   "outputs": [],
   "source": []
  }
 ],
 "metadata": {
  "kernelspec": {
   "display_name": "Python 3",
   "language": "python",
   "name": "python3"
  },
  "language_info": {
   "codemirror_mode": {
    "name": "ipython",
    "version": 3
   },
   "file_extension": ".py",
   "mimetype": "text/x-python",
   "name": "python",
   "nbconvert_exporter": "python",
   "pygments_lexer": "ipython3",
   "version": "3.4.3"
  }
 },
 "nbformat": 4,
 "nbformat_minor": 0
}
